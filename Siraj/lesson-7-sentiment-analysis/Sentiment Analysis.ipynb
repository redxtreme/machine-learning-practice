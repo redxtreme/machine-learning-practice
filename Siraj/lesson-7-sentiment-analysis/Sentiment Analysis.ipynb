{
 "cells": [
  {
   "cell_type": "markdown",
   "metadata": {},
   "source": [
    "# Twitter Sentiment Analysis - Python for Data Science #2"
   ]
  },
  {
   "cell_type": "markdown",
   "metadata": {},
   "source": [
    "https://www.youtube.com/watch?v=o_OZdbCzHUA"
   ]
  },
  {
   "cell_type": "markdown",
   "metadata": {},
   "source": [
    "## Imports and defs"
   ]
  },
  {
   "cell_type": "code",
   "execution_count": 1,
   "metadata": {
    "collapsed": true
   },
   "outputs": [],
   "source": [
    "import tweepy\n",
    "import myConfig\n",
    "from textblob import TextBlob\n",
    "wiki = TextBlob('Siraj is angry that he never gets good matches on Tinder')\n"
   ]
  },
  {
   "cell_type": "markdown",
   "metadata": {},
   "source": [
    "### Had to download these dependencies"
   ]
  },
  {
   "cell_type": "code",
   "execution_count": 2,
   "metadata": {
    "collapsed": true
   },
   "outputs": [],
   "source": [
    "#import nltk\n",
    "#nltk.download('punkt')\n",
    "#nltk.download('averaged_perceptron_tagger')"
   ]
  },
  {
   "cell_type": "markdown",
   "metadata": {},
   "source": [
    "### Tokenize the wiki for demo"
   ]
  },
  {
   "cell_type": "code",
   "execution_count": 3,
   "metadata": {},
   "outputs": [
    {
     "data": {
      "text/plain": [
       "[('Siraj', 'NNP'),\n",
       " ('is', 'VBZ'),\n",
       " ('angry', 'JJ'),\n",
       " ('that', 'IN'),\n",
       " ('he', 'PRP'),\n",
       " ('never', 'RB'),\n",
       " ('gets', 'VBZ'),\n",
       " ('good', 'JJ'),\n",
       " ('matches', 'NNS'),\n",
       " ('on', 'IN'),\n",
       " ('Tinder', 'NN')]"
      ]
     },
     "execution_count": 3,
     "metadata": {},
     "output_type": "execute_result"
    }
   ],
   "source": [
    "wiki.tags"
   ]
  },
  {
   "cell_type": "markdown",
   "metadata": {},
   "source": [
    "## Get the sentiment"
   ]
  },
  {
   "cell_type": "code",
   "execution_count": 4,
   "metadata": {},
   "outputs": [
    {
     "data": {
      "text/plain": [
       "0.09999999999999998"
      ]
     },
     "execution_count": 4,
     "metadata": {},
     "output_type": "execute_result"
    }
   ],
   "source": [
    "wiki.sentiment.polarity"
   ]
  },
  {
   "cell_type": "markdown",
   "metadata": {},
   "source": [
    "-1 < sentiment < 1 : So this means sad"
   ]
  },
  {
   "cell_type": "markdown",
   "metadata": {},
   "source": [
    "# Set up actual twitter app"
   ]
  },
  {
   "cell_type": "markdown",
   "metadata": {},
   "source": [
    "### Access keys"
   ]
  },
  {
   "cell_type": "code",
   "execution_count": 5,
   "metadata": {
    "collapsed": true
   },
   "outputs": [],
   "source": [
    "consumer_key = myConfig.consumer_key\n",
    "consumer_secret = myConfig.consumer_secret\n",
    "\n",
    "access_token = myConfig.access_token\n",
    "access_token_secret = myConfig.access_token_secret"
   ]
  },
  {
   "cell_type": "markdown",
   "metadata": {},
   "source": [
    "### Authenticate"
   ]
  },
  {
   "cell_type": "code",
   "execution_count": 6,
   "metadata": {
    "collapsed": true
   },
   "outputs": [],
   "source": [
    "auth = tweepy.OAuthHandler(consumer_key, consumer_secret)\n",
    "auth.set_access_token(access_token, access_token_secret)\n",
    "\n",
    "api = tweepy.API(auth)"
   ]
  },
  {
   "cell_type": "markdown",
   "metadata": {},
   "source": [
    "### Search for tweets"
   ]
  },
  {
   "cell_type": "code",
   "execution_count": 8,
   "metadata": {},
   "outputs": [
    {
     "name": "stdout",
     "output_type": "stream",
     "text": [
      "RT @MikeHeadasss: BOY I GOT 280 CHARACTERS SO IMA TWEET THIS FINALLY! THERE ARE 2 GENDERS. THIRD WAVE FEMINISM IS TRASH. HOLLYWOODS FULL OF…\n",
      "Sentiment(polarity=0.11666666666666665, subjectivity=0.5166666666666667)\n",
      "RT @ProudResister: Big night for Democrats! Northam wins Virginia and Murphy wins New Jersey. This is a referendum on Trump. #ElectionNight…\n",
      "Sentiment(polarity=0.18409090909090908, subjectivity=0.23863636363636365)\n",
      "@realDonaldTrump @EdWGillespie Your guy lost, running on a Trump-like platform. I’m so beyond thrilled people are c… https://t.co/mhE35E8PwP\n",
      "Sentiment(polarity=0.6, subjectivity=0.7)\n",
      "RT @renato_mariotti: Virginia just elected the first transgender state legislator in America. THAT is how you send a message to Trump that…\n",
      "Sentiment(polarity=0.25, subjectivity=0.3333333333333333)\n",
      "RT @MSignorile: It's a BIGLY slap to Trump, the most anti-trans president ever, that a trans woman has beaten an anti-trans bigot &amp; a BIGLY…\n",
      "Sentiment(polarity=0.25, subjectivity=0.3)\n",
      "RT @MikeSigner: The eyes of the country are on the Commonwealth of Virginia. As they should be. We are a wall against Trump and Trumpism.\n",
      "Sentiment(polarity=0.0, subjectivity=0.0)\n",
      "RT @TDPattillo: It's so cute that Trump thinks China has free and fair elections, like the US used to have. https://t.co/rwLdUNm73V\n",
      "Sentiment(polarity=0.5333333333333333, subjectivity=0.9)\n",
      "RT @NWOinPanicMode: So Dems actually won something -  A Governor's race in one of the few Blue States that Hillary carried..\n",
      "\n",
      "Tomorrow's MS…\n",
      "Sentiment(polarity=-0.06666666666666667, subjectivity=0.10000000000000002)\n",
      "RT @cantfoolthefoo1: @MarcusJ65 @BamaGirl_RTR72 @drawandstrike @ThomasWictor A lot of insane rumors ARE coming true.  \n",
      "\n",
      "Just none of the on…\n",
      "Sentiment(polarity=-0.325, subjectivity=0.825)\n",
      "RT @krassenstein: BREAKING:  Both Northam and Murphy will win their respective Gubernatorial Elections.\n",
      "\n",
      "This is a HUGE victory for the Dem…\n",
      "Sentiment(polarity=0.4000000000000001, subjectivity=0.4666666666666666)\n",
      "@morningmika Begone Trump! Before someone drops a house on YOU!\n",
      "Sentiment(polarity=0.0, subjectivity=0.0)\n",
      "RT @fedupwithit31: I love our country and the direction we are headed! Im a die-hard supporter of President Trump. Are you?!  #MAGA💯🇺🇸🚂\n",
      "Sentiment(polarity=0.78125, subjectivity=0.6)\n",
      "@PaRog5 @GGraysonC13 @EdKrassen @IRdotnet @realDonaldTrump I want to thank the @ACLU for having the courage to post… https://t.co/QIZcNxMUCA\n",
      "Sentiment(polarity=0.0, subjectivity=0.0)\n",
      "RT @EdKrassen: Trump bragged about the great respect that South Korea has for him. \n",
      "\n",
      "Confidence in the US President in S.Korea; Obama: 88%,…\n",
      "Sentiment(polarity=0.8, subjectivity=0.75)\n",
      "RT @williamlegate: @Nate_Cohn Looks like Trump's destruction of the Republican Party is working! https://t.co/QSoE42p9gm\n",
      "Sentiment(polarity=0.0, subjectivity=0.0)\n"
     ]
    }
   ],
   "source": [
    "public_tweets = api.search('Trump')\n",
    "\n",
    "for tweet in public_tweets:\n",
    "    print(tweet.text)\n",
    "    analysis = TextBlob(tweet.text)\n",
    "    print(analysis.sentiment)"
   ]
  },
  {
   "cell_type": "markdown",
   "metadata": {},
   "source": [
    "Polarity is the sentiment, subjectivity is how factual"
   ]
  },
  {
   "cell_type": "code",
   "execution_count": null,
   "metadata": {
    "collapsed": true
   },
   "outputs": [],
   "source": []
  }
 ],
 "metadata": {
  "kernelspec": {
   "display_name": "Python 3",
   "language": "python",
   "name": "python3"
  },
  "language_info": {
   "codemirror_mode": {
    "name": "ipython",
    "version": 3
   },
   "file_extension": ".py",
   "mimetype": "text/x-python",
   "name": "python",
   "nbconvert_exporter": "python",
   "pygments_lexer": "ipython3",
   "version": "3.6.3"
  }
 },
 "nbformat": 4,
 "nbformat_minor": 2
}
