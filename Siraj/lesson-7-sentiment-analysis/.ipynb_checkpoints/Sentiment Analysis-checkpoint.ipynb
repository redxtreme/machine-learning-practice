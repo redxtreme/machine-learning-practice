{
 "cells": [
  {
   "cell_type": "markdown",
   "metadata": {},
   "source": [
    "# Twitter Sentiment Analysis - Python for Data Science #2"
   ]
  },
  {
   "cell_type": "markdown",
   "metadata": {},
   "source": [
    "https://www.youtube.com/watch?v=o_OZdbCzHUA"
   ]
  },
  {
   "cell_type": "markdown",
   "metadata": {},
   "source": [
    "## Imports and defs"
   ]
  },
  {
   "cell_type": "code",
   "execution_count": 24,
   "metadata": {},
   "outputs": [],
   "source": [
    "import tweepy\n",
    "import myConfig\n",
    "from textblob import TextBlob\n",
    "wiki = TextBlob('Siraj is angry that he never gets good matches on Tinder')\n"
   ]
  },
  {
   "cell_type": "markdown",
   "metadata": {},
   "source": [
    "### Had to download these dependencies"
   ]
  },
  {
   "cell_type": "code",
   "execution_count": 15,
   "metadata": {
    "collapsed": true
   },
   "outputs": [],
   "source": [
    "#import nltk\n",
    "#nltk.download('punkt')\n",
    "#nltk.download('averaged_perceptron_tagger')"
   ]
  },
  {
   "cell_type": "markdown",
   "metadata": {},
   "source": [
    "### Tokenize the wiki for demo"
   ]
  },
  {
   "cell_type": "code",
   "execution_count": 12,
   "metadata": {},
   "outputs": [
    {
     "data": {
      "text/plain": [
       "[('Siraj', 'NNP'),\n",
       " ('is', 'VBZ'),\n",
       " ('angry', 'JJ'),\n",
       " ('that', 'IN'),\n",
       " ('he', 'PRP'),\n",
       " ('never', 'RB'),\n",
       " ('gets', 'VBZ'),\n",
       " ('good', 'JJ'),\n",
       " ('matches', 'NNS'),\n",
       " ('on', 'IN'),\n",
       " ('Tinder', 'NN')]"
      ]
     },
     "execution_count": 12,
     "metadata": {},
     "output_type": "execute_result"
    }
   ],
   "source": [
    "wiki.tags"
   ]
  },
  {
   "cell_type": "markdown",
   "metadata": {},
   "source": [
    "## Get the sentiment"
   ]
  },
  {
   "cell_type": "code",
   "execution_count": 13,
   "metadata": {},
   "outputs": [
    {
     "data": {
      "text/plain": [
       "0.09999999999999998"
      ]
     },
     "execution_count": 13,
     "metadata": {},
     "output_type": "execute_result"
    }
   ],
   "source": [
    "wiki.sentiment.polarity"
   ]
  },
  {
   "cell_type": "markdown",
   "metadata": {},
   "source": [
    "-1 < sentiment < 1 : So this means sad"
   ]
  },
  {
   "cell_type": "markdown",
   "metadata": {},
   "source": [
    "# Set up actual twitter app"
   ]
  },
  {
   "cell_type": "markdown",
   "metadata": {},
   "source": [
    "### Access keys"
   ]
  },
  {
   "cell_type": "code",
   "execution_count": 25,
   "metadata": {
    "collapsed": true
   },
   "outputs": [],
   "source": [
    "consumer_key = myConfig.consumer_key\n",
    "consumer_secret = myConfig.consumer_secret\n",
    "\n",
    "access_token = myConfig.access_token\n",
    "access_token_secret = myConfig.access_token_secret"
   ]
  },
  {
   "cell_type": "markdown",
   "metadata": {},
   "source": [
    "### Authenticate"
   ]
  },
  {
   "cell_type": "code",
   "execution_count": 26,
   "metadata": {},
   "outputs": [],
   "source": [
    "auth = tweepy.OAuthHandler(consumer_key, consumer_secret)\n",
    "auth.set_access_token(access_token, access_token_secret)\n",
    "\n",
    "api = tweepy.API(auth)"
   ]
  },
  {
   "cell_type": "markdown",
   "metadata": {},
   "source": [
    "### Search for tweets"
   ]
  },
  {
   "cell_type": "code",
   "execution_count": 27,
   "metadata": {},
   "outputs": [
    {
     "name": "stdout",
     "output_type": "stream",
     "text": [
      "RT @samstein: Trump’s made 341 nominations.\n",
      "\n",
      "We crunched the data. \n",
      "\n",
      "Of those 179 have a conflict of interest. \n",
      "\n",
      "https://t.co/KPP9Aez3Pk\n",
      "\n",
      "w…\n",
      "Sentiment(polarity=0.0, subjectivity=0.0)\n",
      "RT @nhannahjones: This is embarrassing for every good reporter at that paper. https://t.co/O0IkYd0hBf\n",
      "Sentiment(polarity=0.7, subjectivity=0.6000000000000001)\n",
      "RT @GeorgeTakei: Trump’s meltdown on Twitter this morning is delicious. We’re back to her emails—SO very last year. Worried about something…\n",
      "Sentiment(polarity=0.3333333333333333, subjectivity=0.3622222222222222)\n",
      "Trump is not known for taking negative news coverage well. Tomorrow will be *fun*!\n",
      "Sentiment(polarity=0.037500000000000006, subjectivity=0.30000000000000004)\n",
      "RT @Thomas1774Paine: WHITE HOUSE: Backed by Hillary Cash and Obama DOJ, Fusion GPS Suspected of Paying Russian Lawyer to Set Up Trump Jr. h…\n",
      "Sentiment(polarity=0.0, subjectivity=0.0)\n",
      "Trump is so unstable.. Jesus Christ.\n",
      "Sentiment(polarity=0.0, subjectivity=0.0)\n",
      "RT @RogueSNRadvisor: Trump had \"major meltdown\" today. Had entire Olive Garden menu delivered &amp; smashed hole in wall w/ golf club. #Mueller…\n",
      "Sentiment(polarity=0.03125, subjectivity=0.5625)\n",
      "RT @MoveOn: Do not let @realDonaldTrump destroy our humanity. #StayLoud &amp; #Resist. We are not Trump. This is not ok &amp; #NotNormal. #FreeRosa\n",
      "Sentiment(polarity=-0.225, subjectivity=0.25)\n",
      "RT @kylegriffin1: Let me get this straight: Clinton/the DNC funded a dossier on Trump that never came out during the election so they could…\n",
      "Sentiment(polarity=0.2, subjectivity=0.4)\n",
      "RT @realDonaldTrump: ...the Uranium to Russia deal, the  33,000 plus deleted Emails, the Comey fix and so much more. Instead they look at p…\n",
      "Sentiment(polarity=0.5, subjectivity=0.5)\n",
      "@mikandynothem @ladydwinter @BarackObama @Corrynmb @bfraser747 @LeahR77 @surfermom77 @DrLee4America @ChooseToBFree… https://t.co/kw0W9lkqGa\n",
      "Sentiment(polarity=0.0, subjectivity=0.0)\n",
      "RT @SafetyPinDaily: Trump Is Having A Real Time Frantic Unraveling Over The Russia Investigation Criminal Charges   | via @politicususa htt…\n",
      "Sentiment(polarity=-0.1, subjectivity=0.42500000000000004)\n",
      "RT @pulte: Yes, I spoke with President Trump @realDonaldTrump about our urban clean-up work and he was very receptive and kind! https://t.c…\n",
      "Sentiment(polarity=0.31666666666666665, subjectivity=0.39999999999999997)\n",
      "@Rebel_Bill @keotakeota trump is on to something attacking Hollywood/Sports.  We gotta get back to our culture, and it ain't Netflix/NFL\n",
      "Sentiment(polarity=0.0, subjectivity=0.0)\n",
      "@Harryslaststand Well said. My 95-year-old Dad isn't on any social media except FB, &amp; most posts he makes are varia… https://t.co/zMeNJEBHNJ\n",
      "Sentiment(polarity=0.26666666666666666, subjectivity=0.2833333333333333)\n"
     ]
    }
   ],
   "source": [
    "public_tweets = api.search('Trump')\n",
    "\n",
    "for tweet in public_tweets:\n",
    "    print(tweet.text)\n",
    "    analysis = TextBlob(tweet.text)\n",
    "    print(analysis.sentiment)"
   ]
  },
  {
   "cell_type": "markdown",
   "metadata": {},
   "source": [
    "Polarity is the sentiment, subjectivity is how factual"
   ]
  },
  {
   "cell_type": "code",
   "execution_count": null,
   "metadata": {
    "collapsed": true
   },
   "outputs": [],
   "source": []
  }
 ],
 "metadata": {
  "kernelspec": {
   "display_name": "Python 3",
   "language": "python",
   "name": "python3"
  },
  "language_info": {
   "codemirror_mode": {
    "name": "ipython",
    "version": 3
   },
   "file_extension": ".py",
   "mimetype": "text/x-python",
   "name": "python",
   "nbconvert_exporter": "python",
   "pygments_lexer": "ipython3",
   "version": "3.6.3"
  }
 },
 "nbformat": 4,
 "nbformat_minor": 2
}
