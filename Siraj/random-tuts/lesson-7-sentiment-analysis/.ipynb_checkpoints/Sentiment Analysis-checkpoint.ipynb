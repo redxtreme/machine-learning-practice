{
 "cells": [
  {
   "cell_type": "markdown",
   "metadata": {},
   "source": [
    "# Twitter Sentiment Analysis - Python for Data Science #2"
   ]
  },
  {
   "cell_type": "markdown",
   "metadata": {},
   "source": [
    "https://www.youtube.com/watch?v=o_OZdbCzHUA"
   ]
  },
  {
   "cell_type": "markdown",
   "metadata": {},
   "source": [
    "## Imports and defs"
   ]
  },
  {
   "cell_type": "code",
   "execution_count": 24,
   "metadata": {
    "collapsed": true
   },
   "outputs": [],
   "source": [
    "import tweepy\n",
    "import myConfig\n",
    "from textblob import TextBlob\n",
    "wiki = TextBlob('Siraj is angry that he never gets good matches on Tinder')\n"
   ]
  },
  {
   "cell_type": "markdown",
   "metadata": {},
   "source": [
    "### Had to download these dependencies"
   ]
  },
  {
   "cell_type": "code",
   "execution_count": 15,
   "metadata": {
    "collapsed": true
   },
   "outputs": [],
   "source": [
    "#import nltk\n",
    "#nltk.download('punkt')\n",
    "#nltk.download('averaged_perceptron_tagger')"
   ]
  },
  {
   "cell_type": "markdown",
   "metadata": {},
   "source": [
    "### Tokenize the wiki for demo"
   ]
  },
  {
   "cell_type": "code",
   "execution_count": 12,
   "metadata": {},
   "outputs": [
    {
     "data": {
      "text/plain": [
       "[('Siraj', 'NNP'),\n",
       " ('is', 'VBZ'),\n",
       " ('angry', 'JJ'),\n",
       " ('that', 'IN'),\n",
       " ('he', 'PRP'),\n",
       " ('never', 'RB'),\n",
       " ('gets', 'VBZ'),\n",
       " ('good', 'JJ'),\n",
       " ('matches', 'NNS'),\n",
       " ('on', 'IN'),\n",
       " ('Tinder', 'NN')]"
      ]
     },
     "execution_count": 12,
     "metadata": {},
     "output_type": "execute_result"
    }
   ],
   "source": [
    "wiki.tags"
   ]
  },
  {
   "cell_type": "markdown",
   "metadata": {},
   "source": [
    "## Get the sentiment"
   ]
  },
  {
   "cell_type": "code",
   "execution_count": 13,
   "metadata": {},
   "outputs": [
    {
     "data": {
      "text/plain": [
       "0.09999999999999998"
      ]
     },
     "execution_count": 13,
     "metadata": {},
     "output_type": "execute_result"
    }
   ],
   "source": [
    "wiki.sentiment.polarity"
   ]
  },
  {
   "cell_type": "markdown",
   "metadata": {},
   "source": [
    "-1 < sentiment < 1 : So this means sad"
   ]
  },
  {
   "cell_type": "markdown",
   "metadata": {},
   "source": [
    "# Set up actual twitter app"
   ]
  },
  {
   "cell_type": "markdown",
   "metadata": {},
   "source": [
    "### Access keys"
   ]
  },
  {
   "cell_type": "code",
   "execution_count": 25,
   "metadata": {
    "collapsed": true
   },
   "outputs": [],
   "source": [
    "consumer_key = myConfig.consumer_key\n",
    "consumer_secret = myConfig.consumer_secret\n",
    "\n",
    "access_token = myConfig.access_token\n",
    "access_token_secret = myConfig.access_token_secret"
   ]
  },
  {
   "cell_type": "markdown",
   "metadata": {},
   "source": [
    "### Authenticate"
   ]
  },
  {
   "cell_type": "code",
   "execution_count": 26,
   "metadata": {
    "collapsed": true
   },
   "outputs": [],
   "source": [
    "auth = tweepy.OAuthHandler(consumer_key, consumer_secret)\n",
    "auth.set_access_token(access_token, access_token_secret)\n",
    "\n",
    "api = tweepy.API(auth)"
   ]
  },
  {
   "cell_type": "markdown",
   "metadata": {},
   "source": [
    "### Search for tweets"
   ]
  },
  {
   "cell_type": "code",
   "execution_count": 29,
   "metadata": {},
   "outputs": [
    {
     "name": "stdout",
     "output_type": "stream",
     "text": [
      "RT @Thomas1774Paine: CRONY: Obama-Appointed Judge Seals Fusion GPS Bank Records; Ruling Insulates Obama, Clinton, FBI https://t.co/2vjozaHG…\n",
      "Sentiment(polarity=0.0, subjectivity=0.0)\n",
      "RT @LoveUSADawn: https://t.co/infiS4wUoN\n",
      "“Justice shouldn’t protect the FBI &amp; #FusionGPS from house subpoenas” \n",
      "#COMEY #MUELLER #OBAMA\n",
      "#Tru…\n",
      "Sentiment(polarity=0.0, subjectivity=0.0)\n",
      "RT @PrisonPlanet: Saudis ordered jihadists in Syria to attack Damascus International Airport with Obama's blessings. https://t.co/YXIUal9rrT\n",
      "Sentiment(polarity=0.0, subjectivity=0.0)\n",
      "RT @president9111: OBAMA IT HAS FAILED https://t.co/2wDLvVhT6L\n",
      "Sentiment(polarity=-0.5, subjectivity=0.3)\n",
      "@WeThePeople1237 @AlwaysActions They were ALL “ineffective”, when it came to doing their job. It appears The Obama… https://t.co/epMFoD0H58\n",
      "Sentiment(polarity=0.0, subjectivity=0.0)\n",
      "RT @Thomas1774Paine: CRONY: Obama-Appointed Judge Seals Fusion GPS Bank Records; Ruling Insulates Obama, Clinton, FBI https://t.co/2vjozaHG…\n",
      "Sentiment(polarity=0.0, subjectivity=0.0)\n",
      "RT @surfermom77: Corruption, Collusion &amp; Coverup in Obama’s Adm.\n",
      "State Dept, is sitting on 76K Hillary’s docs until 2020. President wants t…\n",
      "Sentiment(polarity=0.2, subjectivity=0.1)\n",
      "You have set a new record @realDonaldTrump Worst President, lowest approval 🤣🤣🤣🤣🤣Even Pres Obama Made America Greater than you\n",
      "Sentiment(polarity=-0.12121212121212122, subjectivity=0.6515151515151515)\n",
      "RT @Thomas1774Paine: CRONY: Obama-Appointed Judge Seals Fusion GPS Bank Records; Ruling Insulates Obama, Clinton, FBI https://t.co/2vjozaHG…\n",
      "Sentiment(polarity=0.0, subjectivity=0.0)\n",
      "Funny,when top politicians such a Wasserman Shultz, Clinton, Obama, Lynch, Holder, Lerner get caught. They know nothing. And ppl buy that!\n",
      "Sentiment(polarity=0.25, subjectivity=0.5)\n",
      "RT @RealEagleBites: @BarackObama @ObamaFoundation Luckily for America founding principles of free speech, religion &amp; Democracy are strong,…\n",
      "Sentiment(polarity=0.3666666666666667, subjectivity=0.8166666666666667)\n",
      "RT @steph93065: Obama spent 8 years giving money to left wing groups from the DOJ extortion schemes..billions of dollars.\n",
      "Sentiment(polarity=-0.05, subjectivity=0.05)\n",
      "RT @MZHemingway: Obama Campaign Paid $972,000 To Law Firm That Paid Fusion GPS https://t.co/AN6CgbkiuN\n",
      "Sentiment(polarity=-0.2, subjectivity=0.4)\n",
      "RT @GrizzleMaximus: David Clarke blisters the Obama administration 4ruining the honor &amp; integrity of the FBI. \n",
      "‘It was a proud organization…\n",
      "Sentiment(polarity=0.8, subjectivity=1.0)\n",
      "@FoxNews @RealKiraDavis @NextRevFNC ... cracks me up that Fox News only knows how to bash Clinton and Obama and are lost.\n",
      "Sentiment(polarity=0.0, subjectivity=1.0)\n"
     ]
    }
   ],
   "source": [
    "public_tweets = api.search('Obama')\n",
    "\n",
    "for tweet in public_tweets:\n",
    "    print(tweet.text)\n",
    "    analysis = TextBlob(tweet.text)\n",
    "    print(analysis.sentiment)"
   ]
  },
  {
   "cell_type": "markdown",
   "metadata": {},
   "source": [
    "Polarity is the sentiment, subjectivity is how factual"
   ]
  },
  {
   "cell_type": "code",
   "execution_count": null,
   "metadata": {
    "collapsed": true
   },
   "outputs": [],
   "source": []
  }
 ],
 "metadata": {
  "kernelspec": {
   "display_name": "Python 3",
   "language": "python",
   "name": "python3"
  },
  "language_info": {
   "codemirror_mode": {
    "name": "ipython",
    "version": 3
   },
   "file_extension": ".py",
   "mimetype": "text/x-python",
   "name": "python",
   "nbconvert_exporter": "python",
   "pygments_lexer": "ipython3",
   "version": "3.6.3"
  }
 },
 "nbformat": 4,
 "nbformat_minor": 2
}
