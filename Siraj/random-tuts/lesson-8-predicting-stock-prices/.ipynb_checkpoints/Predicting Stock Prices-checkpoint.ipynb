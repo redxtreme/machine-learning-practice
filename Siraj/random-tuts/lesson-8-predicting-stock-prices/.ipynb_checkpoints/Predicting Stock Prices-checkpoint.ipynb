{
 "cells": [
  {
   "cell_type": "markdown",
   "metadata": {},
   "source": [
    "# Predicting Stock Prices - Learn Python for Data Science #4"
   ]
  },
  {
   "cell_type": "markdown",
   "metadata": {},
   "source": [
    "This lesson uses video: https://www.youtube.com/watch?v=SSu00IRRraY"
   ]
  },
  {
   "cell_type": "markdown",
   "metadata": {},
   "source": [
    "## Imports"
   ]
  },
  {
   "cell_type": "code",
   "execution_count": 1,
   "metadata": {
    "collapsed": true
   },
   "outputs": [],
   "source": [
    "import pandas as pd\n",
    "import numpy as np\n",
    "from sklearn.svm import SVR\n",
    "import matplotlib.pyplot as plt"
   ]
  },
  {
   "cell_type": "code",
   "execution_count": 2,
   "metadata": {
    "collapsed": true
   },
   "outputs": [],
   "source": [
    "#plt.switch_backend if it doesn't plot"
   ]
  },
  {
   "cell_type": "markdown",
   "metadata": {},
   "source": [
    "## Read in the Stock Prices"
   ]
  },
  {
   "cell_type": "code",
   "execution_count": 3,
   "metadata": {
    "collapsed": true
   },
   "outputs": [],
   "source": [
    "df = pd.read_csv('AAPL.csv')\n",
    "\n",
    "dates = df.index.values\n",
    "prices = df['Open'].values"
   ]
  },
  {
   "cell_type": "markdown",
   "metadata": {},
   "source": [
    "### Check that the data read in correctly"
   ]
  },
  {
   "cell_type": "code",
   "execution_count": 4,
   "metadata": {},
   "outputs": [
    {
     "data": {
      "text/html": [
       "<div>\n",
       "<style>\n",
       "    .dataframe thead tr:only-child th {\n",
       "        text-align: right;\n",
       "    }\n",
       "\n",
       "    .dataframe thead th {\n",
       "        text-align: left;\n",
       "    }\n",
       "\n",
       "    .dataframe tbody tr th {\n",
       "        vertical-align: top;\n",
       "    }\n",
       "</style>\n",
       "<table border=\"1\" class=\"dataframe\">\n",
       "  <thead>\n",
       "    <tr style=\"text-align: right;\">\n",
       "      <th></th>\n",
       "      <th>Date</th>\n",
       "      <th>Open</th>\n",
       "      <th>High</th>\n",
       "      <th>Low</th>\n",
       "      <th>Close</th>\n",
       "      <th>Adj Close</th>\n",
       "      <th>Volume</th>\n",
       "    </tr>\n",
       "  </thead>\n",
       "  <tbody>\n",
       "    <tr>\n",
       "      <th>0</th>\n",
       "      <td>2017-10-24</td>\n",
       "      <td>156.289993</td>\n",
       "      <td>157.419998</td>\n",
       "      <td>156.199997</td>\n",
       "      <td>157.100006</td>\n",
       "      <td>156.537277</td>\n",
       "      <td>17757200</td>\n",
       "    </tr>\n",
       "    <tr>\n",
       "      <th>1</th>\n",
       "      <td>2017-10-25</td>\n",
       "      <td>156.910004</td>\n",
       "      <td>157.550003</td>\n",
       "      <td>155.270004</td>\n",
       "      <td>156.410004</td>\n",
       "      <td>155.849747</td>\n",
       "      <td>21207100</td>\n",
       "    </tr>\n",
       "    <tr>\n",
       "      <th>2</th>\n",
       "      <td>2017-10-26</td>\n",
       "      <td>157.229996</td>\n",
       "      <td>157.830002</td>\n",
       "      <td>156.779999</td>\n",
       "      <td>157.410004</td>\n",
       "      <td>156.846161</td>\n",
       "      <td>17000500</td>\n",
       "    </tr>\n",
       "    <tr>\n",
       "      <th>3</th>\n",
       "      <td>2017-10-27</td>\n",
       "      <td>159.289993</td>\n",
       "      <td>163.600006</td>\n",
       "      <td>158.699997</td>\n",
       "      <td>163.050003</td>\n",
       "      <td>162.465958</td>\n",
       "      <td>44454200</td>\n",
       "    </tr>\n",
       "    <tr>\n",
       "      <th>4</th>\n",
       "      <td>2017-10-30</td>\n",
       "      <td>163.889999</td>\n",
       "      <td>168.070007</td>\n",
       "      <td>163.720001</td>\n",
       "      <td>166.720001</td>\n",
       "      <td>166.122803</td>\n",
       "      <td>44700800</td>\n",
       "    </tr>\n",
       "    <tr>\n",
       "      <th>5</th>\n",
       "      <td>2017-10-31</td>\n",
       "      <td>167.899994</td>\n",
       "      <td>169.649994</td>\n",
       "      <td>166.940002</td>\n",
       "      <td>169.039993</td>\n",
       "      <td>168.434494</td>\n",
       "      <td>36046800</td>\n",
       "    </tr>\n",
       "    <tr>\n",
       "      <th>6</th>\n",
       "      <td>2017-11-01</td>\n",
       "      <td>169.869995</td>\n",
       "      <td>169.940002</td>\n",
       "      <td>165.610001</td>\n",
       "      <td>166.889999</td>\n",
       "      <td>166.292206</td>\n",
       "      <td>33637800</td>\n",
       "    </tr>\n",
       "    <tr>\n",
       "      <th>7</th>\n",
       "      <td>2017-11-02</td>\n",
       "      <td>166.600006</td>\n",
       "      <td>168.500000</td>\n",
       "      <td>165.279999</td>\n",
       "      <td>168.110001</td>\n",
       "      <td>167.507828</td>\n",
       "      <td>41393400</td>\n",
       "    </tr>\n",
       "    <tr>\n",
       "      <th>8</th>\n",
       "      <td>2017-11-03</td>\n",
       "      <td>174.000000</td>\n",
       "      <td>174.259995</td>\n",
       "      <td>171.119995</td>\n",
       "      <td>172.500000</td>\n",
       "      <td>171.882111</td>\n",
       "      <td>59398600</td>\n",
       "    </tr>\n",
       "    <tr>\n",
       "      <th>9</th>\n",
       "      <td>2017-11-06</td>\n",
       "      <td>172.369995</td>\n",
       "      <td>174.990005</td>\n",
       "      <td>171.720001</td>\n",
       "      <td>174.250000</td>\n",
       "      <td>173.625839</td>\n",
       "      <td>35026300</td>\n",
       "    </tr>\n",
       "  </tbody>\n",
       "</table>\n",
       "</div>"
      ],
      "text/plain": [
       "         Date        Open        High         Low       Close   Adj Close  \\\n",
       "0  2017-10-24  156.289993  157.419998  156.199997  157.100006  156.537277   \n",
       "1  2017-10-25  156.910004  157.550003  155.270004  156.410004  155.849747   \n",
       "2  2017-10-26  157.229996  157.830002  156.779999  157.410004  156.846161   \n",
       "3  2017-10-27  159.289993  163.600006  158.699997  163.050003  162.465958   \n",
       "4  2017-10-30  163.889999  168.070007  163.720001  166.720001  166.122803   \n",
       "5  2017-10-31  167.899994  169.649994  166.940002  169.039993  168.434494   \n",
       "6  2017-11-01  169.869995  169.940002  165.610001  166.889999  166.292206   \n",
       "7  2017-11-02  166.600006  168.500000  165.279999  168.110001  167.507828   \n",
       "8  2017-11-03  174.000000  174.259995  171.119995  172.500000  171.882111   \n",
       "9  2017-11-06  172.369995  174.990005  171.720001  174.250000  173.625839   \n",
       "\n",
       "     Volume  \n",
       "0  17757200  \n",
       "1  21207100  \n",
       "2  17000500  \n",
       "3  44454200  \n",
       "4  44700800  \n",
       "5  36046800  \n",
       "6  33637800  \n",
       "7  41393400  \n",
       "8  59398600  \n",
       "9  35026300  "
      ]
     },
     "execution_count": 4,
     "metadata": {},
     "output_type": "execute_result"
    }
   ],
   "source": [
    "df.head(10)"
   ]
  },
  {
   "cell_type": "code",
   "execution_count": 5,
   "metadata": {},
   "outputs": [
    {
     "data": {
      "text/plain": [
       "array([ 0,  1,  2,  3,  4,  5,  6,  7,  8,  9, 10, 11, 12, 13, 14, 15, 16,\n",
       "       17, 18, 19, 20, 21, 22])"
      ]
     },
     "execution_count": 5,
     "metadata": {},
     "output_type": "execute_result"
    }
   ],
   "source": [
    "dates"
   ]
  },
  {
   "cell_type": "code",
   "execution_count": 6,
   "metadata": {},
   "outputs": [
    {
     "data": {
      "text/plain": [
       "array([ 156.289993,  156.910004,  157.229996,  159.289993,  163.889999,\n",
       "        167.899994,  169.869995,  166.600006,  174.      ,  172.369995,\n",
       "        173.910004,  174.660004,  175.110001,  175.110001,  173.5     ,\n",
       "        173.039993,  169.970001,  171.179993,  171.039993,  170.289993,\n",
       "        170.779999,  173.360001,  175.100006])"
      ]
     },
     "execution_count": 6,
     "metadata": {},
     "output_type": "execute_result"
    }
   ],
   "source": [
    "prices"
   ]
  },
  {
   "cell_type": "markdown",
   "metadata": {},
   "source": [
    "## Define Helper Function"
   ]
  },
  {
   "cell_type": "markdown",
   "metadata": {},
   "source": [
    "### This will build the predictive model and graph it. It will build Support Vector Regression"
   ]
  },
  {
   "cell_type": "code",
   "execution_count": 7,
   "metadata": {
    "collapsed": true
   },
   "outputs": [],
   "source": [
    "def predict_prices (dates, prices, x):\n",
    "    #form n by 1 matrix\n",
    "    dates = np.reshape(dates, (len(dates), 1))\n",
    "    \n",
    "    #create three support vectors\n",
    "    #kernel is the type of svr\n",
    "    #C is the error term\n",
    "    svr_lin = SVR(kernel='linear', C=1e3)\n",
    "    svr_poly = SVR(kernel='poly', C=1e3, degree=2)\n",
    "    \n",
    "    #radial basis function, euclidian distance between two inputs\n",
    "    #gamma is the max distance between the two\n",
    "    svr_rbf = SVR(kernel='rbf', C=1e3, gamma=0.1)\n",
    "    \n",
    "    #fit/train models\n",
    "    svr_lin.fit(dates, prices)\n",
    "    svr_poly.fit(dates, prices)\n",
    "    svr_rbf.fit(dates, prices)\n",
    "    \n",
    "    plt.scatter(dates, prices, color='black', label='Data')\n",
    "    plt.plot(dates, svr_rbf.predict(dates), color='red', label='RBF model')\n",
    "    plt.plot(dates, svr_lin.predict(dates), color='green', label='Linear model')\n",
    "    plt.plot(dates, svr_poly.predict(dates), color='blue', label='Polynomial model')\n",
    "    plt.xlabel('Date')\n",
    "    plt.ylabel('Price')\n",
    "    plt.title('Support Vector Regression')\n",
    "    plt.legend()\n",
    "    plt.show()\n",
    "    \n",
    "    return svr_rbf.predict(x)[0], svr_lin.predict(x)[0], svr_poly.predict(x)[0]\n",
    "    "
   ]
  },
  {
   "cell_type": "markdown",
   "metadata": {},
   "source": [
    "## Train and Predict"
   ]
  },
  {
   "cell_type": "code",
   "execution_count": 10,
   "metadata": {},
   "outputs": [
    {
     "data": {
      "image/png": "[encoded data removed]",
      "text/plain": [
       "<matplotlib.figure.Figure at 0x1117b97b8>"
      ]
     },
     "metadata": {},
     "output_type": "display_data"
    }
   ],
   "source": [
    "predicted_price = predict_prices(dates, prices, 30)"
   ]
  },
  {
   "cell_type": "markdown",
   "metadata": {},
   "source": [
    "## Display Results"
   ]
  },
  {
   "cell_type": "code",
   "execution_count": 12,
   "metadata": {},
   "outputs": [
    {
     "name": "stdout",
     "output_type": "stream",
     "text": [
      "(168.06115120005089, 179.5333393334021, 179.33408033994564)\n"
     ]
    }
   ],
   "source": [
    "print(predicted_price)"
   ]
  }
 ],
 "metadata": {
  "kernelspec": {
   "display_name": "Python 3",
   "language": "python",
   "name": "python3"
  },
  "language_info": {
   "codemirror_mode": {
    "name": "ipython",
    "version": 3
   },
   "file_extension": ".py",
   "mimetype": "text/x-python",
   "name": "python",
   "nbconvert_exporter": "python",
   "pygments_lexer": "ipython3",
   "version": "3.6.3"
  }
 },
 "nbformat": 4,
 "nbformat_minor": 2
}
