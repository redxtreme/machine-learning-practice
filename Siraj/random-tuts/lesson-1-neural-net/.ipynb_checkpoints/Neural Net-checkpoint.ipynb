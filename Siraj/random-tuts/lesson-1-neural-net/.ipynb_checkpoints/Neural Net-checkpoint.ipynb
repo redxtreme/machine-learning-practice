{
 "cells": [
  {
   "cell_type": "markdown",
   "metadata": {},
   "source": [
    "# Sets up a simple Neural Network"
   ]
  },
  {
   "cell_type": "markdown",
   "metadata": {},
   "source": [
    "https://youtu.be/h3l4qz76JhQ - Node the video has a lot of code errors. Use git repo in comments of the video"
   ]
  },
  {
   "cell_type": "markdown",
   "metadata": {},
   "source": [
    "## Initialize and define"
   ]
  },
  {
   "cell_type": "code",
   "execution_count": 1,
   "metadata": {},
   "outputs": [],
   "source": [
    "import numpy as np"
   ]
  },
  {
   "cell_type": "markdown",
   "metadata": {},
   "source": [
    "### Set up sigmoid"
   ]
  },
  {
   "cell_type": "code",
   "execution_count": 2,
   "metadata": {
    "collapsed": true
   },
   "outputs": [],
   "source": [
    "def nonlin(x, deriv=False):\n",
    "    if (deriv == True):\n",
    "        return x * (1 - x)\n",
    "    \n",
    "    return 1 / (1 + np.exp(-x))"
   ]
  },
  {
   "cell_type": "markdown",
   "metadata": {},
   "source": [
    "### Set up training"
   ]
  },
  {
   "cell_type": "code",
   "execution_count": 10,
   "metadata": {
    "collapsed": true
   },
   "outputs": [],
   "source": [
    "def train(iterations, syn0, syn1):\n",
    "    l2 = 0\n",
    "    for j in range(iterations):\n",
    "\n",
    "        #calculate forward through the network\n",
    "        l0 = X\n",
    "        l1 = nonlin(np.dot(l0, syn0))\n",
    "        l2 = nonlin(np.dot(l1, syn1))\n",
    "\n",
    "        #back propagation of errors using the chain rule\n",
    "        l2_error = y - l2\n",
    "        if (j % 10000) == 0: #only print the error every 10000 steps, to save time and limit the amount of output\n",
    "            print(\"Error: \" + str(np.mean(np.abs(l2_error))))\n",
    "\n",
    "        l2_delta = l2_error * nonlin(l2, deriv=True)\n",
    "\n",
    "        l1_error = l2_delta.dot(syn1.T)\n",
    "\n",
    "        l1_delta = l1_error * nonlin(l1, deriv=True)\n",
    "\n",
    "        #update weights (no learning rate term)\n",
    "        #gradient descent\n",
    "        syn1 += l1.T.dot(l2_delta)\n",
    "        syn0 += l0.T.dot(l1_delta)\n",
    "        \n",
    "    print(\"Output after training\")\n",
    "    print(l2)"
   ]
  },
  {
   "cell_type": "markdown",
   "metadata": {},
   "source": [
    "## Set up data"
   ]
  },
  {
   "cell_type": "markdown",
   "metadata": {},
   "source": [
    "### Input matrix"
   ]
  },
  {
   "cell_type": "markdown",
   "metadata": {},
   "source": [
    "Third column is for bias"
   ]
  },
  {
   "cell_type": "code",
   "execution_count": 4,
   "metadata": {
    "collapsed": true
   },
   "outputs": [],
   "source": [
    "#input data\n",
    "X = np.array([\n",
    "    [0,0,1],\n",
    "    [0,1,1],\n",
    "    [1,0,1],\n",
    "    [1,1,1]\n",
    "])"
   ]
  },
  {
   "cell_type": "markdown",
   "metadata": {},
   "source": [
    "### Output of the exclusive OR function"
   ]
  },
  {
   "cell_type": "code",
   "execution_count": 5,
   "metadata": {
    "collapsed": true
   },
   "outputs": [],
   "source": [
    "#output data\n",
    "y = np.array([\n",
    "    [0],\n",
    "    [1],\n",
    "    [1],\n",
    "    [0]\n",
    "])"
   ]
  },
  {
   "cell_type": "markdown",
   "metadata": {},
   "source": [
    "### Set up weights"
   ]
  },
  {
   "cell_type": "code",
   "execution_count": 6,
   "metadata": {
    "collapsed": true
   },
   "outputs": [],
   "source": [
    "np.random.seed(1) #good for debugging\n",
    "\n",
    "#synapses\n",
    "syn0 = 2 * np.random.random((3, 4)) - 1 #3x4 matrix of weights (2 inputs + 1 bias)\n",
    "syn1 = 2 * np.random.random((4, 1)) - 1 #4x1 matrix of weights (4 nodes x 1 output)"
   ]
  },
  {
   "cell_type": "markdown",
   "metadata": {},
   "source": [
    "## Training"
   ]
  },
  {
   "cell_type": "code",
   "execution_count": 11,
   "metadata": {},
   "outputs": [
    {
     "name": "stdout",
     "output_type": "stream",
     "text": [
      "Error: 0.496410031903\n",
      "Error: 0.00858452565325\n",
      "Error: 0.00578945986251\n",
      "Error: 0.00462917677677\n",
      "Error: 0.00395876528027\n",
      "Error: 0.00351012256786\n",
      "Output after training\n",
      "[[ 0.00260572]\n",
      " [ 0.99672209]\n",
      " [ 0.99701711]\n",
      " [ 0.00386759]]\n"
     ]
    }
   ],
   "source": [
    "train(60000, syn0, syn1)"
   ]
  },
  {
   "cell_type": "code",
   "execution_count": 12,
   "metadata": {},
   "outputs": [
    {
     "name": "stdout",
     "output_type": "stream",
     "text": [
      "Error: 0.00318350238587\n",
      "Error: 0.00293230634228\n",
      "Error: 0.00273150641821\n",
      "Error: 0.00256631724004\n",
      "Error: 0.00242737608676\n",
      "Error: 0.00230843116063\n",
      "Error: 0.00220512937522\n",
      "Error: 0.0021143350549\n",
      "Error: 0.00203372513685\n",
      "Error: 0.0019615374333\n",
      "Output after training\n",
      "[[ 0.00155944]\n",
      " [ 0.99806849]\n",
      " [ 0.99820156]\n",
      " [ 0.00229627]]\n"
     ]
    }
   ],
   "source": [
    "train(100000, syn0, syn1)"
   ]
  },
  {
   "cell_type": "code",
   "execution_count": null,
   "metadata": {
    "collapsed": true
   },
   "outputs": [],
   "source": []
  }
 ],
 "metadata": {
  "kernelspec": {
   "display_name": "Python 3",
   "language": "python",
   "name": "python3"
  },
  "language_info": {
   "codemirror_mode": {
    "name": "ipython",
    "version": 3
   },
   "file_extension": ".py",
   "mimetype": "text/x-python",
   "name": "python",
   "nbconvert_exporter": "python",
   "pygments_lexer": "ipython3",
   "version": "3.6.3"
  }
 },
 "nbformat": 4,
 "nbformat_minor": 2
}
