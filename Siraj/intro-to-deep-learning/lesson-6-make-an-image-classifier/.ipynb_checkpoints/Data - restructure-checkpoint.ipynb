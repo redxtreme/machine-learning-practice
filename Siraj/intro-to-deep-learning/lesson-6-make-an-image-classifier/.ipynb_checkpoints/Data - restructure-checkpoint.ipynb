{
 "cells": [
  {
   "cell_type": "markdown",
   "metadata": {},
   "source": [
    "# Restructure the data in the heirarchy needed for training"
   ]
  },
  {
   "cell_type": "markdown",
   "metadata": {},
   "source": [
    "Based on the heirarchy used in this example: https://blog.keras.io/building-powerful-image-classification-models-using-very-little-data.html"
   ]
  },
  {
   "cell_type": "markdown",
   "metadata": {},
   "source": [
    "## Imports"
   ]
  },
  {
   "cell_type": "code",
   "execution_count": 26,
   "metadata": {
    "collapsed": true
   },
   "outputs": [],
   "source": [
    "import os\n",
    "import shutil"
   ]
  },
  {
   "cell_type": "markdown",
   "metadata": {},
   "source": [
    "## Define Variables"
   ]
  },
  {
   "cell_type": "markdown",
   "metadata": {},
   "source": [
    "### Define path to your data file containing both training and testing data"
   ]
  },
  {
   "cell_type": "code",
   "execution_count": 44,
   "metadata": {
    "collapsed": true
   },
   "outputs": [],
   "source": [
    "dir = 'dir/to/data'"
   ]
  },
  {
   "cell_type": "markdown",
   "metadata": {},
   "source": [
    "Test to make sure it's defined right"
   ]
  },
  {
   "cell_type": "code",
   "execution_count": 9,
   "metadata": {},
   "outputs": [
    {
     "data": {
      "text/plain": [
       "['.DS_Store', 'categorized', 'raw-testing', 'raw-training']"
      ]
     },
     "execution_count": 9,
     "metadata": {},
     "output_type": "execute_result"
    }
   ],
   "source": [
    "os.listdir(dir)"
   ]
  },
  {
   "cell_type": "markdown",
   "metadata": {},
   "source": [
    "### Define your uncategorized data files"
   ]
  },
  {
   "cell_type": "code",
   "execution_count": 12,
   "metadata": {
    "collapsed": true
   },
   "outputs": [],
   "source": [
    "uncategorized_training = dir + '/raw-training'"
   ]
  },
  {
   "cell_type": "markdown",
   "metadata": {},
   "source": [
    "### Define your categorized destination files"
   ]
  },
  {
   "cell_type": "code",
   "execution_count": 14,
   "metadata": {
    "collapsed": true
   },
   "outputs": [],
   "source": [
    "categorized_train = dir + '/categorized/train'\n",
    "categorized_validation = dir + '/categorized/validation'\n",
    "\n",
    "train_cats = categorized_train + '/cats'\n",
    "train_dogs = categorized_train + '/dogs'\n",
    "\n",
    "validation_cats = categorized_validation + '/cats'\n",
    "validation_dogs = categorized_validation + '/dogs'"
   ]
  },
  {
   "cell_type": "markdown",
   "metadata": {},
   "source": [
    "## Categorize the Uncategorized Data"
   ]
  },
  {
   "cell_type": "markdown",
   "metadata": {},
   "source": [
    "### Categorize Training Data"
   ]
  },
  {
   "cell_type": "markdown",
   "metadata": {},
   "source": [
    "#### Get 1400 cats and 1400 dogs"
   ]
  },
  {
   "cell_type": "code",
   "execution_count": 39,
   "metadata": {},
   "outputs": [],
   "source": [
    "CATS_MAX = 1400\n",
    "DOGS_MAX = 1400\n",
    "cat_counter = 0\n",
    "dog_counter = 0\n",
    "cat_files = []\n",
    "dog_files = []\n",
    "for file in os.listdir(uncategorized_training):\n",
    "    if cat_counter >= CATS_MAX and dog_counter >= DOGS_MAX:\n",
    "        break;\n",
    "        \n",
    "    if file.endswith('.jpg'):\n",
    "        \n",
    "        if file.startswith('cat'):\n",
    "            if cat_counter < CATS_MAX:\n",
    "                cat_files.append(file)\n",
    "                cat_counter += 1\n",
    "        elif file.startswith('dog'):\n",
    "            if dog_counter < DOGS_MAX:\n",
    "                dog_files.append(file)\n",
    "                dog_counter += 1\n",
    "    \n",
    "    "
   ]
  },
  {
   "cell_type": "markdown",
   "metadata": {},
   "source": [
    "#### Categorize first 1000 cats and dogs for training"
   ]
  },
  {
   "cell_type": "code",
   "execution_count": 42,
   "metadata": {
    "collapsed": true
   },
   "outputs": [],
   "source": [
    "for file in cat_files[0:1000]:\n",
    "    shutil.copy(uncategorized_training + '/' + file, train_cats)\n",
    "\n",
    "for file in dog_files[0:1000]:\n",
    "    shutil.copy(uncategorized_training + '/' + file, train_dogs)"
   ]
  },
  {
   "cell_type": "markdown",
   "metadata": {},
   "source": [
    "#### Categorize all cats and dogs for validation"
   ]
  },
  {
   "cell_type": "code",
   "execution_count": 43,
   "metadata": {
    "collapsed": true
   },
   "outputs": [],
   "source": [
    "for file in cat_files:\n",
    "    shutil.copy(uncategorized_training + '/' + file, validation_cats)\n",
    "\n",
    "for file in dog_files:\n",
    "    shutil.copy(uncategorized_training + '/' + file, validation_dogs)"
   ]
  },
  {
   "cell_type": "markdown",
   "metadata": {},
   "source": [
    "Everything should be copied over, if you already had the directory structure set up right"
   ]
  },
  {
   "cell_type": "code",
   "execution_count": null,
   "metadata": {
    "collapsed": true
   },
   "outputs": [],
   "source": []
  }
 ],
 "metadata": {
  "kernelspec": {
   "display_name": "Python 3",
   "language": "python",
   "name": "python3"
  },
  "language_info": {
   "codemirror_mode": {
    "name": "ipython",
    "version": 3
   },
   "file_extension": ".py",
   "mimetype": "text/x-python",
   "name": "python",
   "nbconvert_exporter": "python",
   "pygments_lexer": "ipython3",
   "version": "3.6.3"
  }
 },
 "nbformat": 4,
 "nbformat_minor": 2
}
